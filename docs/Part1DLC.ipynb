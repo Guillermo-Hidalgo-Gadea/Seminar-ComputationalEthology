{
 "cells": [
  {
   "cell_type": "markdown",
   "source": [
    "# Part 1: Create a DeepLabCut Project"
   ],
   "metadata": {}
  }
 ],
 "metadata": {
  "orig_nbformat": 4,
  "language_info": {
   "name": "python"
  }
 },
 "nbformat": 4,
 "nbformat_minor": 2
}