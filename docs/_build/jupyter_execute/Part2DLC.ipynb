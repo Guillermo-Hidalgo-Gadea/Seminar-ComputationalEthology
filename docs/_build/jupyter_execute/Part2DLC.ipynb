{
 "cells": [
  {
   "cell_type": "markdown",
   "id": "0bbfba7c",
   "metadata": {},
   "source": [
    "# Part 2: Edit a DeepLabCut Project"
   ]
  },
  {
   "cell_type": "markdown",
   "id": "6f38c355",
   "metadata": {},
   "source": [
    "## Editing DeepLabCut Models\n"
   ]
  },
  {
   "cell_type": "code",
   "execution_count": null,
   "id": "7fae89f5",
   "metadata": {},
   "outputs": [],
   "source": [
    "try:\n",
    "    import deeplabcut\n",
    "    import tkinter\n",
    "    from tkinter import filedialog\n",
    "\n",
    "    print(f'Using DeepLabCut version: {deeplabcut. __version__}')\n",
    "\n",
    "except:\n",
    "    print(\"Please run the notebook in in your local environment\")"
   ]
  },
  {
   "cell_type": "markdown",
   "id": "32b3d92a",
   "metadata": {},
   "source": [
    "Load existing model by selecting the corresponding config.yaml file:"
   ]
  },
  {
   "cell_type": "code",
   "execution_count": null,
   "id": "067e2a5d",
   "metadata": {},
   "outputs": [],
   "source": [
    "config_path = filedialog.askopenfilename(title='Choose the config.yaml file of your DeepLabCut project:')\n",
    "\n",
    "print(f'Using project path: {config_path}')"
   ]
  },
  {
   "cell_type": "markdown",
   "id": "b3eca2f5",
   "metadata": {},
   "source": [
    "Load new videos to analyze and or merge to the project:"
   ]
  },
  {
   "cell_type": "code",
   "execution_count": null,
   "id": "2bd12135",
   "metadata": {},
   "outputs": [],
   "source": [
    "video_files = filedialog.askopenfilenames(title='Choose new video files to analyze in DeepLabCut:')\n",
    "new_videos = list(video_files)\n",
    "\n",
    "print(f'{len(new_videos)} videos selected:')\n",
    "for i in range(len(new_videos)): \n",
    "    print(new_videos[i])"
   ]
  },
  {
   "cell_type": "markdown",
   "id": "2b44e650",
   "metadata": {},
   "source": [
    "Analyze new videos with the previously trained model:"
   ]
  },
  {
   "cell_type": "code",
   "execution_count": null,
   "id": "e3412d0f",
   "metadata": {},
   "outputs": [],
   "source": [
    "deeplabcut.analyze_videos(config_path, new_videos, shuffle=1, save_as_csv=True, videotype='mp4' )"
   ]
  },
  {
   "cell_type": "code",
   "execution_count": null,
   "id": "750b2e76",
   "metadata": {},
   "outputs": [],
   "source": [
    "deeplabcut.filterpredictions(config_path, new_videos, shuffle=1, save_as_csv=True, videotype='mp4')"
   ]
  },
  {
   "cell_type": "code",
   "execution_count": null,
   "id": "d18ee4a1",
   "metadata": {},
   "outputs": [],
   "source": [
    "deeplabcut.extract_outlier_frames(config_path, new_videos, automatic=True)"
   ]
  },
  {
   "cell_type": "code",
   "execution_count": null,
   "id": "76e478c0",
   "metadata": {},
   "outputs": [],
   "source": [
    "deeplabcut.create_labeled_video(config_path, new_videos, videotype = 'mp4', save_frames=False)"
   ]
  },
  {
   "cell_type": "code",
   "execution_count": null,
   "id": "bab3d4de",
   "metadata": {},
   "outputs": [],
   "source": []
  },
  {
   "cell_type": "code",
   "execution_count": null,
   "id": "1c58adf7",
   "metadata": {},
   "outputs": [],
   "source": []
  },
  {
   "cell_type": "code",
   "execution_count": null,
   "id": "9cc327a5",
   "metadata": {},
   "outputs": [],
   "source": [
    "deeplabcut.refine_labels(config_path)"
   ]
  },
  {
   "cell_type": "code",
   "execution_count": null,
   "id": "a4f4bde5",
   "metadata": {},
   "outputs": [],
   "source": []
  },
  {
   "cell_type": "code",
   "execution_count": null,
   "id": "36d9afe2",
   "metadata": {},
   "outputs": [],
   "source": [
    "deeplabcut.merge_datasets(config_path)"
   ]
  },
  {
   "cell_type": "code",
   "execution_count": null,
   "id": "87694549",
   "metadata": {},
   "outputs": [],
   "source": []
  },
  {
   "cell_type": "code",
   "execution_count": null,
   "id": "a2261e3d",
   "metadata": {},
   "outputs": [],
   "source": [
    "deeplabcut.create_training_dataset(config_path, net_type='resnet_50', augmenter_type='imgaug')"
   ]
  },
  {
   "cell_type": "code",
   "execution_count": null,
   "id": "0e966074",
   "metadata": {},
   "outputs": [],
   "source": []
  },
  {
   "cell_type": "code",
   "execution_count": null,
   "id": "5df69e87",
   "metadata": {},
   "outputs": [],
   "source": [
    "# change init_weights to use a pre-trained model\n",
    "deeplabcut.train_network(config_path, shuffle=1, displayiters=100, saveiters=1000)"
   ]
  },
  {
   "cell_type": "code",
   "execution_count": null,
   "id": "01cae01a",
   "metadata": {},
   "outputs": [],
   "source": []
  },
  {
   "cell_type": "code",
   "execution_count": null,
   "id": "f2089a58",
   "metadata": {},
   "outputs": [],
   "source": []
  },
  {
   "cell_type": "code",
   "execution_count": null,
   "id": "01a71ce4",
   "metadata": {},
   "outputs": [],
   "source": []
  },
  {
   "cell_type": "code",
   "execution_count": null,
   "id": "e0d07194",
   "metadata": {},
   "outputs": [],
   "source": []
  }
 ],
 "metadata": {
  "interpreter": {
   "hash": "9cf59f4f35cbd5b03b7320385623601e0d1d6065449752291df1bcf50543fed6"
  },
  "kernelspec": {
   "display_name": "Python 3.7.9 64-bit ('DLC-CPU': conda)",
   "name": "python3"
  },
  "language_info": {
   "codemirror_mode": {
    "name": "ipython",
    "version": 3
   },
   "file_extension": ".py",
   "mimetype": "text/x-python",
   "name": "python",
   "nbconvert_exporter": "python",
   "pygments_lexer": "ipython3",
   "version": "3.7.9"
  }
 },
 "nbformat": 4,
 "nbformat_minor": 5
}