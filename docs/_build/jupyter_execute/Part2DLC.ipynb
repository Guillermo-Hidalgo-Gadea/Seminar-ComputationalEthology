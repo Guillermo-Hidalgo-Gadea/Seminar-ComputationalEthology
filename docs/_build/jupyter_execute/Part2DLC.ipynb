{
 "cells": [
  {
   "cell_type": "markdown",
   "id": "13aa08aa",
   "metadata": {},
   "source": [
    "# Part 2: Edit an existing DeepLabCut Project"
   ]
  },
  {
   "cell_type": "markdown",
   "id": "b2d0a069",
   "metadata": {},
   "source": [
    "Note: Open this jupyter notebook in your DeepLabCut environment."
   ]
  },
  {
   "cell_type": "markdown",
   "id": "d5bab29e",
   "metadata": {},
   "source": [
    "## Load existing DeepLabCut Models"
   ]
  },
  {
   "cell_type": "markdown",
   "id": "9227ac1b",
   "metadata": {},
   "source": [
    "Import python libraries needed for this notebook"
   ]
  },
  {
   "cell_type": "code",
   "execution_count": null,
   "id": "8c9be748",
   "metadata": {},
   "outputs": [],
   "source": [
    "try:\n",
    "    import deeplabcut\n",
    "    import tkinter\n",
    "    from tkinter import filedialog\n",
    "\n",
    "    print(f'Using DeepLabCut version: {deeplabcut. __version__}')\n",
    "\n",
    "except:\n",
    "    print(\"Please run the notebook in in your local environment\")"
   ]
  },
  {
   "cell_type": "markdown",
   "id": "3a110974",
   "metadata": {},
   "source": [
    "Load existing model by selecting the corresponding config.yaml file:"
   ]
  },
  {
   "cell_type": "code",
   "execution_count": null,
   "id": "998cf3a5",
   "metadata": {},
   "outputs": [],
   "source": [
    "config_path = filedialog.askopenfilename(title='Choose the config.yaml file of your DeepLabCut project:')\n",
    "\n",
    "print(f'Using project path: {config_path}')"
   ]
  },
  {
   "cell_type": "markdown",
   "id": "573e68f1",
   "metadata": {},
   "source": [
    "Load new videos to analyze and/or merge to the project:"
   ]
  },
  {
   "cell_type": "code",
   "execution_count": null,
   "id": "7ebc6245",
   "metadata": {},
   "outputs": [],
   "source": [
    "video_files = filedialog.askopenfilenames(title='Choose new video files to analyze in DeepLabCut:')\n",
    "new_videos = list(video_files)\n",
    "\n",
    "print(f'{len(new_videos)} videos selected:')\n",
    "for i in range(len(new_videos)): \n",
    "    print(new_videos[i])"
   ]
  },
  {
   "cell_type": "markdown",
   "id": "29d4e222",
   "metadata": {},
   "source": [
    "## Analyze new videos with the previously trained model"
   ]
  },
  {
   "cell_type": "markdown",
   "id": "d37a3abd",
   "metadata": {},
   "source": [
    "The analysis results in this step will most probably not look as desired, but this is to be expected. Bare in mind, that we are trying to analyze new, unseen videos with a model trained on different data (i.e., either other individuals, other sessions and maybe even different light conditions or camera angles). The goal of this step is to find out where the model fails to generalize and cover this shortcomings."
   ]
  },
  {
   "cell_type": "code",
   "execution_count": null,
   "id": "61a9fe8f",
   "metadata": {},
   "outputs": [],
   "source": [
    "deeplabcut.analyze_videos(config_path, new_videos, shuffle=1, save_as_csv=True, videotype='mp4' )"
   ]
  },
  {
   "cell_type": "code",
   "execution_count": null,
   "id": "2fadcdf8",
   "metadata": {},
   "outputs": [],
   "source": [
    "deeplabcut.filterpredictions(config_path, new_videos, shuffle=1, save_as_csv=True, videotype='mp4')"
   ]
  },
  {
   "cell_type": "code",
   "execution_count": null,
   "id": "68a7d7a0",
   "metadata": {},
   "outputs": [],
   "source": [
    "deeplabcut.create_labeled_video(config_path, new_videos, filtered=True, videotype = 'mp4', save_frames=False)"
   ]
  },
  {
   "cell_type": "markdown",
   "id": "18b3e342",
   "metadata": {},
   "source": [
    "## Extract outlier frames"
   ]
  },
  {
   "cell_type": "markdown",
   "id": "d483b6f3",
   "metadata": {},
   "source": [
    "Now this is the interesting part. Instead of including more videos to the project directly, and extracting frames as usual with kmeans, we are taking advantage of the previous model to tell us what frames exactly to label. This active learning step helps us recognize the shortcomings of our model and correct it in a targeted manner."
   ]
  },
  {
   "cell_type": "code",
   "execution_count": null,
   "id": "a060c816",
   "metadata": {},
   "outputs": [],
   "source": [
    "deeplabcut.extract_outlier_frames(config_path, new_videos, automatic=True)"
   ]
  },
  {
   "cell_type": "markdown",
   "id": "25cf7a3f",
   "metadata": {},
   "source": [
    "Now that we have extracted new frames, we need to go back and start labeling. Instead of starting from the beginning, though, we are provided the model predictions and have to drag and drop them in place. **Note:** Make sure to remove labels that are not visible, the model will often guess the expected position based on learned geometric constraints. "
   ]
  },
  {
   "cell_type": "code",
   "execution_count": null,
   "id": "e919d487",
   "metadata": {},
   "outputs": [],
   "source": [
    "deeplabcut.refine_labels(config_path)"
   ]
  },
  {
   "cell_type": "markdown",
   "id": "053fde80",
   "metadata": {},
   "source": [
    "You can again plot your labeled frames to check annotation accuracy."
   ]
  },
  {
   "cell_type": "code",
   "execution_count": null,
   "id": "6fe0f3be",
   "metadata": {},
   "outputs": [],
   "source": [
    "deeplabcut.check_labels(config_path)"
   ]
  },
  {
   "cell_type": "markdown",
   "id": "1dcf2e8c",
   "metadata": {},
   "source": [
    "At this point you could get an error message like [this](https://github.com/DeepLabCut/DeepLabCut/issues/232) telling you that saving the video path failed. In this case, you need to add the new video paths manually for DLC to include these in the new training set. You can either add them by hand, writing in the config.yaml file in the same format as the first video paths (see [here](https://github.com/DeepLabCut/DeepLabCut/issues/663#issuecomment-619274975)), or you can run the following command to add the list of videos to your config file:"
   ]
  },
  {
   "cell_type": "code",
   "execution_count": null,
   "id": "86a3675f",
   "metadata": {},
   "outputs": [],
   "source": [
    "deeplabcut.add_new_videos(config_path, new_videos, copy_videos=False)"
   ]
  },
  {
   "cell_type": "markdown",
   "id": "6ff2e9e5",
   "metadata": {},
   "source": [
    "If the permission error persists, try starting a new anaconda terminal as administrator (right click > run as administrator) and then starting jupyter notebook with elevated privileges."
   ]
  },
  {
   "cell_type": "markdown",
   "id": "f6578193",
   "metadata": {},
   "source": [
    "## Merge Datasets"
   ]
  },
  {
   "cell_type": "markdown",
   "id": "5f2417ab",
   "metadata": {},
   "source": [
    "After refining all outlier frames extracted above, merge the datasets to combine old and new labels in your project. "
   ]
  },
  {
   "cell_type": "code",
   "execution_count": null,
   "id": "8cfb4468",
   "metadata": {},
   "outputs": [],
   "source": [
    "deeplabcut.merge_datasets(config_path)"
   ]
  },
  {
   "cell_type": "code",
   "execution_count": null,
   "id": "cce03235",
   "metadata": {},
   "outputs": [],
   "source": [
    "deeplabcut.create_training_dataset(config_path, net_type='resnet_50', augmenter_type='imgaug')"
   ]
  },
  {
   "cell_type": "markdown",
   "id": "69f52a4f",
   "metadata": {},
   "source": [
    "**Note:** Make sure that the new videos have been included in the config.yaml file without permission issues (see above)."
   ]
  },
  {
   "cell_type": "markdown",
   "id": "d967114f",
   "metadata": {},
   "source": [
    "## Re-Train Network"
   ]
  },
  {
   "cell_type": "markdown",
   "id": "e14a42f4",
   "metadata": {},
   "source": [
    "When training a new model with an expanded dataset, you could either choose to start fresh with new data, or use the previous model as pre-trained network for your next model. Although not yet extensively verified, lets belief that transfer learning at least won't harm the new model. "
   ]
  },
  {
   "cell_type": "code",
   "execution_count": null,
   "id": "d69a490d",
   "metadata": {},
   "outputs": [],
   "source": [
    "pose_cfg =  filedialog.askopenfilename(title='Choose DeepLabCut pose_cfg.yaml file from dlc-models:')\n",
    "import webbrowser\n",
    "webbrowser.open(pose_cfg)\n",
    "print('Please edit init_weights to include the path to the last pre-trained model...')"
   ]
  },
  {
   "cell_type": "code",
   "execution_count": null,
   "id": "3034f840",
   "metadata": {},
   "outputs": [],
   "source": [
    "# Example of own pre-trained model\n",
    "init_weights: D:\\FacialExpression\\old-DLC-Project\\dlc-models\\iteration-0\\DLCApr14-trainset95shuffle1\\train\\snapshot-1030000"
   ]
  },
  {
   "cell_type": "code",
   "execution_count": null,
   "id": "8b7e0ee7",
   "metadata": {},
   "outputs": [],
   "source": [
    "\n",
    "deeplabcut.train_network(config_path, shuffle=1, displayiters=100, saveiters=1000)"
   ]
  },
  {
   "cell_type": "markdown",
   "id": "b23ae8ef",
   "metadata": {},
   "source": [
    "## Analyze your new model starting with Part 1"
   ]
  },
  {
   "cell_type": "code",
   "execution_count": null,
   "id": "565217a2",
   "metadata": {},
   "outputs": [],
   "source": [
    "videolist = ...\n",
    "config_path = ..."
   ]
  },
  {
   "cell_type": "code",
   "execution_count": null,
   "id": "7ba21fb9",
   "metadata": {},
   "outputs": [],
   "source": [
    "deeplabcut.analyze_videos(config_path, videolist, shuffle=1, save_as_csv=True, videotype='mp4' )"
   ]
  },
  {
   "cell_type": "code",
   "execution_count": null,
   "id": "362559b1",
   "metadata": {},
   "outputs": [],
   "source": [
    "deeplabcut.filterpredictions(config_path,videolist, videotype='.mp4',filtertype= 'arima',ARdegree=5,MAdegree=2)"
   ]
  },
  {
   "cell_type": "code",
   "execution_count": null,
   "id": "a26ac0f0",
   "metadata": {},
   "outputs": [],
   "source": [
    "deeplabcut.create_labeled_video(config_path, videolist, videotype='.mp4', filtered=False, trailpoints=10, draw_skeleton = True)"
   ]
  },
  {
   "cell_type": "markdown",
   "id": "3ff8bdd3",
   "metadata": {},
   "source": [
    "..."
   ]
  }
 ],
 "metadata": {
  "interpreter": {
   "hash": "9cf59f4f35cbd5b03b7320385623601e0d1d6065449752291df1bcf50543fed6"
  },
  "kernelspec": {
   "display_name": "Python 3.7.9 64-bit ('DLC-CPU': conda)",
   "name": "python3"
  },
  "language_info": {
   "codemirror_mode": {
    "name": "ipython",
    "version": 3
   },
   "file_extension": ".py",
   "mimetype": "text/x-python",
   "name": "python",
   "nbconvert_exporter": "python",
   "pygments_lexer": "ipython3",
   "version": "3.7.9"
  }
 },
 "nbformat": 4,
 "nbformat_minor": 5
}