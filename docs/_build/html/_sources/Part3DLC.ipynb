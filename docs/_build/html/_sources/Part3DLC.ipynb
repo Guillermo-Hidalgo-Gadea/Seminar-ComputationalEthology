{
 "cells": [
  {
   "cell_type": "markdown",
   "source": [
    "# Part 3: Expanding your Model"
   ],
   "metadata": {}
  }
 ],
 "metadata": {
  "orig_nbformat": 4,
  "language_info": {
   "name": "python"
  }
 },
 "nbformat": 4,
 "nbformat_minor": 2
}